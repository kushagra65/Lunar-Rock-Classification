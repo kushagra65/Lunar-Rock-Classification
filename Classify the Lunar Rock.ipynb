{
 "cells": [
  {
   "cell_type": "code",
   "execution_count": 1,
   "metadata": {},
   "outputs": [],
   "source": [
    "import numpy as np\n",
    "import tensorflow as tf\n",
    "from tensorflow.keras.preprocessing.image import ImageDataGenerator\n"
   ]
  },
  {
   "cell_type": "code",
   "execution_count": null,
   "metadata": {},
   "outputs": [],
   "source": []
  },
  {
   "cell_type": "code",
   "execution_count": 2,
   "metadata": {},
   "outputs": [],
   "source": [
    "train_dir=r'C:\\Users\\kushagra\\KAGGLE\\hacker earth competition\\DataSet\\Train Images'\n",
    "validation_dir=r'C:\\Users\\kushagra\\KAGGLE\\hacker earth competition\\DataSet\\validation'\n",
    "test_data=r'C:\\Users\\kushagra\\KAGGLE\\hacker earth competition\\DataSet\\Test Images'"
   ]
  },
  {
   "cell_type": "code",
   "execution_count": null,
   "metadata": {},
   "outputs": [],
   "source": []
  },
  {
   "cell_type": "code",
   "execution_count": null,
   "metadata": {},
   "outputs": [],
   "source": []
  },
  {
   "cell_type": "code",
   "execution_count": 3,
   "metadata": {},
   "outputs": [],
   "source": [
    "train_datagen= ImageDataGenerator(rescale=1./255,\n",
    "                                 rotation_range=50,\n",
    "                                 width_shift_range=.5\n",
    "                                 ,height_shift_range=.5,\n",
    "                                 shear_range=.5,\n",
    "                                 zoom_range=.2,\n",
    "                                 horizontal_flip=True,\n",
    "                                 fill_mode='nearest')\n"
   ]
  },
  {
   "cell_type": "code",
   "execution_count": 4,
   "metadata": {},
   "outputs": [
    {
     "name": "stdout",
     "output_type": "stream",
     "text": [
      "Found 11998 images belonging to 2 classes.\n"
     ]
    }
   ],
   "source": [
    "train_genrator=train_datagen.flow_from_directory(\n",
    "            train_dir\n",
    "    ,       target_size=(150,150),\n",
    "    batch_size=100,\n",
    "    class_mode='binary'\n",
    "\n",
    ")"
   ]
  },
  {
   "cell_type": "code",
   "execution_count": 5,
   "metadata": {},
   "outputs": [
    {
     "name": "stdout",
     "output_type": "stream",
     "text": [
      "Found 3696 images belonging to 2 classes.\n"
     ]
    }
   ],
   "source": [
    "test_datagen= ImageDataGenerator(rescale=1./255)\n",
    "validation_generator=test_datagen.flow_from_directory(\n",
    "validation_dir,\n",
    "target_size=(150,150),\n",
    "batch_size=100,\n",
    "class_mode='binary')"
   ]
  },
  {
   "cell_type": "code",
   "execution_count": 6,
   "metadata": {},
   "outputs": [
    {
     "name": "stdout",
     "output_type": "stream",
     "text": [
      "WARNING:tensorflow:From C:\\Users\\kushagra\\Anaconda3\\lib\\site-packages\\tensorflow\\python\\ops\\init_ops.py:1251: calling VarianceScaling.__init__ (from tensorflow.python.ops.init_ops) with dtype is deprecated and will be removed in a future version.\n",
      "Instructions for updating:\n",
      "Call initializer instance with the dtype argument instead of passing it to the constructor\n"
     ]
    }
   ],
   "source": [
    "model = tf.keras.models.Sequential([\n",
    "    tf.keras.layers.Conv2D(32, (3, 3), activation='relu', input_shape=(150,150, 3)),\n",
    "    tf.keras.layers.MaxPooling2D(2, 2),\n",
    "    tf.keras.layers.Conv2D(64, (3, 3), activation='relu'),\n",
    "    tf.keras.layers.MaxPooling2D(2, 2),\n",
    "    tf.keras.layers.Conv2D(128, (3, 3), activation='relu'),\n",
    "    tf.keras.layers.MaxPooling2D(2, 2),\n",
    "    tf.keras.layers.Flatten(),\n",
    "    tf.keras.layers.Dense(512, activation=tf.nn.relu),\n",
    "    tf.keras.layers.Dense(2, activation=tf.nn.softmax)])\n",
    "\n"
   ]
  },
  {
   "cell_type": "code",
   "execution_count": 11,
   "metadata": {},
   "outputs": [],
   "source": [
    "from tensorflow.keras.optimizers import RMSprop\n",
    "model.compile(optimizer = RMSprop(lr=0.001),\n",
    "              loss = 'sparse_categorical_crossentropy',\n",
    "              metrics=['accuracy'])"
   ]
  },
  {
   "cell_type": "code",
   "execution_count": 12,
   "metadata": {},
   "outputs": [
    {
     "name": "stdout",
     "output_type": "stream",
     "text": [
      "Epoch 1/15\n",
      "100/100 - 105s - loss: 0.6176 - acc: 0.7412 - val_loss: 0.1410 - val_acc: 0.9664\n",
      "Epoch 2/15\n",
      "100/100 - 87s - loss: 0.2018 - acc: 0.9217 - val_loss: 0.0235 - val_acc: 0.9902\n",
      "Epoch 3/15\n",
      "100/100 - 87s - loss: 0.1732 - acc: 0.9432 - val_loss: 0.0174 - val_acc: 0.9930\n",
      "Epoch 4/15\n",
      "100/100 - 94s - loss: 0.1401 - acc: 0.9516 - val_loss: 0.0268 - val_acc: 0.9922\n",
      "Epoch 5/15\n",
      "100/100 - 91s - loss: 0.1142 - acc: 0.9611 - val_loss: 0.1394 - val_acc: 0.9750\n",
      "Epoch 6/15\n",
      "100/100 - 91s - loss: 0.1008 - acc: 0.9652 - val_loss: 0.1219 - val_acc: 0.9838\n",
      "Epoch 7/15\n",
      "100/100 - 92s - loss: 0.1342 - acc: 0.9637 - val_loss: 0.0377 - val_acc: 0.9908\n",
      "Epoch 8/15\n",
      "100/100 - 92s - loss: 0.0826 - acc: 0.9692 - val_loss: 0.0428 - val_acc: 0.9908\n",
      "Epoch 9/15\n",
      "100/100 - 92s - loss: 0.2384 - acc: 0.9649 - val_loss: 0.2794 - val_acc: 0.9758\n",
      "Epoch 10/15\n",
      "100/100 - 93s - loss: 0.0772 - acc: 0.9723 - val_loss: 0.0928 - val_acc: 0.9856\n",
      "Epoch 11/15\n",
      "100/100 - 95s - loss: 0.0866 - acc: 0.9677 - val_loss: 0.2549 - val_acc: 0.9704\n",
      "Epoch 12/15\n",
      "100/100 - 96s - loss: 0.0956 - acc: 0.9704 - val_loss: 0.0869 - val_acc: 0.9868\n",
      "Epoch 13/15\n",
      "100/100 - 94s - loss: 0.1044 - acc: 0.9755 - val_loss: 0.1017 - val_acc: 0.9874\n",
      "Epoch 14/15\n",
      "100/100 - 95s - loss: 0.0837 - acc: 0.9725 - val_loss: 0.1839 - val_acc: 0.9800\n",
      "Epoch 15/15\n",
      "100/100 - 113s - loss: 0.0671 - acc: 0.9743 - val_loss: 0.0719 - val_acc: 0.9902\n"
     ]
    },
    {
     "data": {
      "text/plain": [
       "<tensorflow.python.keras.callbacks.History at 0x19fd6146ec8>"
      ]
     },
     "execution_count": 12,
     "metadata": {},
     "output_type": "execute_result"
    }
   ],
   "source": [
    "model.fit_generator(\n",
    "    train_genrator,\n",
    "    shuffle=True,\n",
    "    steps_per_epoch=100,\n",
    "epochs=15,\n",
    "validation_data=validation_generator,\n",
    "validation_steps=50,\n",
    "verbose=2)"
   ]
  },
  {
   "cell_type": "code",
   "execution_count": 34,
   "metadata": {},
   "outputs": [
    {
     "name": "stdout",
     "output_type": "stream",
     "text": [
      "Found 7534 images belonging to 1 classes.\n"
     ]
    }
   ],
   "source": [
    "test_datagen= ImageDataGenerator(rescale=1./255)\n",
    "test_generator=test_datagen.flow_from_directory(\n",
    "test_data,\n",
    "target_size=(150,150))"
   ]
  },
  {
   "cell_type": "code",
   "execution_count": 35,
   "metadata": {},
   "outputs": [],
   "source": [
    "predictions = model.predict_generator(generator=validation_generator)"
   ]
  },
  {
   "cell_type": "code",
   "execution_count": null,
   "metadata": {},
   "outputs": [],
   "source": []
  },
  {
   "cell_type": "code",
   "execution_count": 36,
   "metadata": {},
   "outputs": [
    {
     "name": "stdout",
     "output_type": "stream",
     "text": [
      "[[1.0000000e+00 0.0000000e+00]\n",
      " [1.0000000e+00 0.0000000e+00]\n",
      " [0.0000000e+00 1.0000000e+00]\n",
      " ...\n",
      " [1.0000000e+00 4.4357081e-18]\n",
      " [1.0000000e+00 4.8080174e-17]\n",
      " [2.2744273e-29 1.0000000e+00]]\n"
     ]
    }
   ],
   "source": [
    "print(predictions)"
   ]
  },
  {
   "cell_type": "code",
   "execution_count": 37,
   "metadata": {},
   "outputs": [],
   "source": [
    "model.save('my_lunar_model.h5')"
   ]
  },
  {
   "cell_type": "code",
   "execution_count": null,
   "metadata": {},
   "outputs": [],
   "source": []
  }
 ],
 "metadata": {
  "kernelspec": {
   "display_name": "Python 3",
   "language": "python",
   "name": "python3"
  },
  "language_info": {
   "codemirror_mode": {
    "name": "ipython",
    "version": 3
   },
   "file_extension": ".py",
   "mimetype": "text/x-python",
   "name": "python",
   "nbconvert_exporter": "python",
   "pygments_lexer": "ipython3",
   "version": "3.7.4"
  }
 },
 "nbformat": 4,
 "nbformat_minor": 2
}
